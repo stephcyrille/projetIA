{
 "cells": [
  {
   "cell_type": "code",
   "execution_count": 22,
   "metadata": {},
   "outputs": [],
   "source": [
    "import sys\n",
    "sys.path.append('../')\n",
    "\n",
    "from selenium import webdriver\n",
    "from selenium.webdriver.chrome.options import Options\n",
    "from selenium.webdriver.common.by import By\n",
    "from selenium.webdriver.support.ui import WebDriverWait\n",
    "from selenium.webdriver.support import expected_conditions as EC\n",
    "import random\n",
    "import time"
   ]
  },
  {
   "cell_type": "markdown",
   "metadata": {},
   "source": [
    "## Adding the header of the HTTP request"
   ]
  },
  {
   "cell_type": "code",
   "execution_count": 42,
   "metadata": {},
   "outputs": [],
   "source": [
    "# Set up the Chrome options\n",
    "options = Options()\n",
    "options.add_argument(\"--headless\")  # Run headless if needed\n",
    "options.add_argument(\"--disable-gpu\")\n",
    "options.add_argument(\"--no-sandbox\")\n",
    "options.add_argument(\"--disable-dev-shm-usage\")\n",
    "options.add_argument(\"--disable-blink-features=AutomationControlled\")\n",
    "# Language option\n",
    "options.add_argument(\"--lang=fr-US\")\n",
    "options.add_argument(f\"user-agent=Mozilla/5.0 (Windows NT 10.0; Win64; x64) AppleWebKit/537.36 (KHTML, like Gecko) Chrome/{random.randint(80, 89)}.0.4389.128 Safari/537.36\")\n"
   ]
  },
  {
   "cell_type": "code",
   "execution_count": 43,
   "metadata": {},
   "outputs": [],
   "source": [
    "url = \"https://www.france24.com/en/americas/20240325-trump-wins-huge-lifeline-fraud-case-court-slashes-bond-demand\""
   ]
  },
  {
   "cell_type": "code",
   "execution_count": 44,
   "metadata": {},
   "outputs": [
    {
     "name": "stdout",
     "output_type": "stream",
     "text": [
      "viewport: width=device-width, initial-scale=1.0, viewport-fit=cover\n",
      "og:image: https://s.france24.com/media/display/16da739e-eac2-11ee-84ad-005056bf30b7/w:1280/p:16x9/Donald%20Trump-1.JPG\n",
      "og:locale: en_US\n",
      "og:site_name: France 24\n",
      "og:type: article\n",
      "og:title: Trump wins huge lifeline in fraud case after appeals court slashes bond demand\n",
      "og:description: Donald Trump was thrown a huge lifeline Monday when an appeals court slashed what could have been a crippling demand for a nearly half-billion-dollar bond payment and also gave him 10 more days to pay. \n",
      "og:see_also: https://www.france24.com/en/americas/20240319-trump-unable-to-pay-464m-bond-in-new-york-fraud-case-his-lawyers-say\n",
      "og:url: https://www.france24.com/en/americas/20240325-trump-wins-huge-lifeline-fraud-case-court-slashes-bond-demand\n",
      "fb:app_id: 121241974571942\n",
      "fb:pages: 176585044433\n",
      "article:publisher: https://www.facebook.com/FRANCE24.English\n",
      "article:author: https://www.facebook.com/FRANCE24.English\n",
      "article:published_time: 2024-03-25T16:23:43+00:00\n",
      "article:modified_time: 2024-03-25T16:23:43+00:00\n",
      "article:section: americas\n",
      "article:tag: trial\n",
      "description: Donald Trump was thrown a huge lifeline Monday when an appeals court slashed what could have been a crippling demand for a nearly half-billion-dollar bond payment and also gave him 10 more days to pay. \n",
      "twitter:card: summary_large_image\n",
      "twitter:site: @FRANCE24\n",
      "keywords: Americas,USA,Donald Trump,New York,Stormy Daniels,trial\n",
      "apple-mobile-web-app-title: France 24\n",
      "application-name: France 24\n",
      "msapplication-TileColor: #00a7e3\n",
      "theme-color: #ffffff\n",
      "apple-mobile-web-app-capable: yes\n"
     ]
    }
   ],
   "source": [
    "driver=webdriver.Chrome(options=options)\n",
    "# Emulate human-like behavior\n",
    "driver.set_window_size(1366, 768)\n",
    "driver.execute_cdp_cmd('Network.setUserAgentOverride', {'userAgent': 'Mozilla/5.0 (Windows NT 10.0; Win64; x64) AppleWebKit/537.36 (KHTML, like Gecko) Chrome/89.0.4389.82 Safari/537.36'})\n",
    "\n",
    "time.sleep(random.uniform(1.5, 3.5))\n",
    "\n",
    "driver.get(url)\n",
    "\n",
    "# Get all meta tags\n",
    "meta_tags = driver.find_elements(By.XPATH,'//meta')\n",
    "\n",
    "# Extract meta tag information\n",
    "meta_info = {}\n",
    "for tag in meta_tags:\n",
    "    property = tag.get_attribute(\"property\")\n",
    "    name = tag.get_attribute(\"name\")\n",
    "    content = tag.get_attribute(\"content\")\n",
    "    if name:\n",
    "        meta_info[name] = content\n",
    "    if property:\n",
    "        meta_info[property] = content\n",
    "\n",
    "# Close the browser\n",
    "driver.quit()\n",
    "\n",
    "# Print meta tag information\n",
    "for name, content in meta_info.items():\n",
    "    print(f\"{name}: {content}\")\n"
   ]
  }
 ],
 "metadata": {
  "kernelspec": {
   "display_name": ".venv",
   "language": "python",
   "name": "python3"
  },
  "language_info": {
   "codemirror_mode": {
    "name": "ipython",
    "version": 3
   },
   "file_extension": ".py",
   "mimetype": "text/x-python",
   "name": "python",
   "nbconvert_exporter": "python",
   "pygments_lexer": "ipython3",
   "version": "3.9.6"
  }
 },
 "nbformat": 4,
 "nbformat_minor": 2
}
